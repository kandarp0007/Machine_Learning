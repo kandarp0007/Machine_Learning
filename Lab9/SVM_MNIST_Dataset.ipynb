{
 "cells": [
  {
   "cell_type": "markdown",
   "metadata": {
    "id": "f0-Qcj1XSGoh"
   },
   "source": [
    "**Assignment**:\n",
    "\n",
    "Try SVM classifier on MNIST dataset, compare the performance of linear, polynomial and RBF kernels.\n"
   ]
  },
  {
   "cell_type": "code",
   "execution_count": 1,
   "metadata": {
    "id": "XSZNc2YkR_lk"
   },
   "outputs": [],
   "source": [
    "import numpy as np\n",
    "import matplotlib.pyplot as plt\n",
    "from sklearn.svm import SVC\n",
    "from sklearn.model_selection import train_test_split"
   ]
  },
  {
   "cell_type": "code",
   "execution_count": 2,
   "metadata": {
    "colab": {
     "base_uri": "https://localhost:8080/"
    },
    "id": "DOTonxaMBVmk",
    "outputId": "ba78a567-02d6-409d-fe02-bb7fff1347ab"
   },
   "outputs": [],
   "source": [
    "# Load MNIST Dataset\n",
    "from tensorflow.keras.datasets import mnist\n",
    "(X_train, y_train), (X_test, y_test) = mnist.load_data()"
   ]
  },
  {
   "cell_type": "code",
   "execution_count": 3,
   "metadata": {
    "colab": {
     "base_uri": "https://localhost:8080/"
    },
    "id": "Vzl1LpVXDqrQ",
    "outputId": "a7ad4e5d-ec27-40df-c6fc-5939957d5cfe",
    "scrolled": true
   },
   "outputs": [
    {
     "name": "stdout",
     "output_type": "stream",
     "text": [
      "[[[0 0 0 ... 0 0 0]\n",
      "  [0 0 0 ... 0 0 0]\n",
      "  [0 0 0 ... 0 0 0]\n",
      "  ...\n",
      "  [0 0 0 ... 0 0 0]\n",
      "  [0 0 0 ... 0 0 0]\n",
      "  [0 0 0 ... 0 0 0]]\n",
      "\n",
      " [[0 0 0 ... 0 0 0]\n",
      "  [0 0 0 ... 0 0 0]\n",
      "  [0 0 0 ... 0 0 0]\n",
      "  ...\n",
      "  [0 0 0 ... 0 0 0]\n",
      "  [0 0 0 ... 0 0 0]\n",
      "  [0 0 0 ... 0 0 0]]]\n",
      "[5 0]\n"
     ]
    }
   ],
   "source": [
    "# print the features\n",
    "print(X_train[:2])\n",
    "# print the labels\n",
    "print(y_train[:2])"
   ]
  },
  {
   "cell_type": "code",
   "execution_count": 4,
   "metadata": {},
   "outputs": [
    {
     "name": "stdout",
     "output_type": "stream",
     "text": [
      "X_train :  (60000, 28, 28)\n",
      "y_train :  (60000,)\n",
      "X_test :  (10000, 28, 28)\n",
      "y_test :  (10000,)\n"
     ]
    }
   ],
   "source": [
    "# Size of training and testing\n",
    "print('X_train : ', X_train.data.shape)\n",
    "print('y_train : ', y_train.data.shape)\n",
    "print('X_test : ', X_test.data.shape)\n",
    "print('y_test : ', y_test.data.shape)"
   ]
  },
  {
   "cell_type": "code",
   "execution_count": 5,
   "metadata": {},
   "outputs": [],
   "source": [
    "# Working with sample_size as the dataset is large\n",
    "# Considering 10000 images and giving 8000 images to training and 2000 images to testing\n",
    "train_sample_size = 8000\n",
    "test_sample_size = 2000\n",
    "\n",
    "X_train = X_train[:train_sample_size]\n",
    "y_train = y_train[:train_sample_size]\n",
    "X_test = X_test[:test_sample_size]\n",
    "y_test = y_test[:test_sample_size]"
   ]
  },
  {
   "cell_type": "code",
   "execution_count": 6,
   "metadata": {},
   "outputs": [
    {
     "name": "stdout",
     "output_type": "stream",
     "text": [
      "X_train :  (8000, 28, 28)\n",
      "y_train :  (8000,)\n",
      "X_test :  (2000, 28, 28)\n",
      "y_test :  (2000,)\n"
     ]
    }
   ],
   "source": [
    "print('X_train : ', X_train.data.shape)\n",
    "print('y_train : ', y_train.data.shape)\n",
    "print('X_test : ', X_test.data.shape)\n",
    "print('y_test : ', y_test.data.shape)"
   ]
  },
  {
   "cell_type": "code",
   "execution_count": 7,
   "metadata": {
    "colab": {
     "base_uri": "https://localhost:8080/"
    },
    "id": "WgUXh4nBIY8c",
    "outputId": "e5257149-7d84-4194-e804-ed2e66c43dd4"
   },
   "outputs": [],
   "source": [
    "# fit needs 2D array for training \n",
    "# So reshaping the numpy array from (sample_size, 28, 28) to (sample_size, 784)\n",
    "\n",
    "samples, x, y = X_train.shape\n",
    "X_train = X_train.reshape((samples, x*y))\n",
    "\n",
    "samples, x, y = X_test.shape\n",
    "X_test = X_test.reshape((samples, x*y))"
   ]
  },
  {
   "cell_type": "markdown",
   "metadata": {
    "id": "g7YpFO2IBqzm"
   },
   "source": [
    "**Linear Kernel**"
   ]
  },
  {
   "cell_type": "code",
   "execution_count": 8,
   "metadata": {
    "id": "QKjdqc-WBbKm"
   },
   "outputs": [],
   "source": [
    "# Create a model with linear kernel\n",
    "# C - regularization (0-1)\n",
    "# gamma\n",
    "linearModel = SVC(kernel='linear')"
   ]
  },
  {
   "cell_type": "code",
   "execution_count": 9,
   "metadata": {
    "id": "FQgZ40RzI12N"
   },
   "outputs": [
    {
     "data": {
      "text/plain": [
       "SVC(kernel='linear')"
      ]
     },
     "execution_count": 9,
     "metadata": {},
     "output_type": "execute_result"
    }
   ],
   "source": [
    "# fit needs 2D array for training \n",
    "linearModel.fit(X_train, y_train)"
   ]
  },
  {
   "cell_type": "code",
   "execution_count": 10,
   "metadata": {
    "id": "ZLn6kfhOFa2n"
   },
   "outputs": [
    {
     "name": "stdout",
     "output_type": "stream",
     "text": [
      "Linear kernel score :  0.887\n"
     ]
    }
   ],
   "source": [
    "# Model analysis\n",
    "print('Linear kernel score : ', linearModel.score(X_test, y_test))"
   ]
  },
  {
   "cell_type": "markdown",
   "metadata": {
    "id": "JTkFpkn0CAU6"
   },
   "source": [
    "**Polynomial Kernel**"
   ]
  },
  {
   "cell_type": "code",
   "execution_count": 11,
   "metadata": {
    "id": "_uRy0LIfCDV-"
   },
   "outputs": [],
   "source": [
    "# Create a model with polynomial kernel\n",
    "polynomialModel = SVC(kernel='poly')"
   ]
  },
  {
   "cell_type": "code",
   "execution_count": 12,
   "metadata": {
    "id": "eUADPQjWLE61"
   },
   "outputs": [
    {
     "data": {
      "text/plain": [
       "SVC(kernel='poly')"
      ]
     },
     "execution_count": 12,
     "metadata": {},
     "output_type": "execute_result"
    }
   ],
   "source": [
    "# fit needs 2D array for training \n",
    "polynomialModel.fit(X_train, y_train)"
   ]
  },
  {
   "cell_type": "code",
   "execution_count": 13,
   "metadata": {
    "id": "EhLh66bsLNlK"
   },
   "outputs": [
    {
     "name": "stdout",
     "output_type": "stream",
     "text": [
      "Polynomial kernel score :  0.9255\n"
     ]
    }
   ],
   "source": [
    "# Model analysis\n",
    "print('Polynomial kernel score : ', polynomialModel.score(X_test, y_test))"
   ]
  },
  {
   "cell_type": "markdown",
   "metadata": {
    "id": "CKf5DzogCEwU"
   },
   "source": [
    "**RBF Kernel**"
   ]
  },
  {
   "cell_type": "code",
   "execution_count": 14,
   "metadata": {
    "id": "3w4cht_9CHee"
   },
   "outputs": [],
   "source": [
    "# Create a model with rbf kernel\n",
    "rbfModel = SVC(kernel='rbf')"
   ]
  },
  {
   "cell_type": "code",
   "execution_count": 15,
   "metadata": {
    "id": "SxdXEQymLOg5"
   },
   "outputs": [
    {
     "data": {
      "text/plain": [
       "SVC()"
      ]
     },
     "execution_count": 15,
     "metadata": {},
     "output_type": "execute_result"
    }
   ],
   "source": [
    "# fit needs 2D array for training \n",
    "rbfModel.fit(X_train, y_train)"
   ]
  },
  {
   "cell_type": "code",
   "execution_count": 16,
   "metadata": {
    "id": "63bmv9LtLl6Y"
   },
   "outputs": [
    {
     "name": "stdout",
     "output_type": "stream",
     "text": [
      "Rbf kernel score :  0.942\n"
     ]
    }
   ],
   "source": [
    "# Model analysis\n",
    "print('Rbf kernel score : ', rbfModel.score(X_test, y_test))"
   ]
  }
 ],
 "metadata": {
  "colab": {
   "collapsed_sections": [],
   "name": "SVM_MNIST_Dataset.ipynb",
   "provenance": []
  },
  "kernelspec": {
   "display_name": "Python 3 (ipykernel)",
   "language": "python",
   "name": "python3"
  },
  "language_info": {
   "codemirror_mode": {
    "name": "ipython",
    "version": 3
   },
   "file_extension": ".py",
   "mimetype": "text/x-python",
   "name": "python",
   "nbconvert_exporter": "python",
   "pygments_lexer": "ipython3",
   "version": "3.8.1"
  }
 },
 "nbformat": 4,
 "nbformat_minor": 1
}
